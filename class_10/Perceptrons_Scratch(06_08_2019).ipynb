{
  "nbformat": 4,
  "nbformat_minor": 0,
  "metadata": {
    "colab": {
      "name": "Perceptrons_Scratch(06-08-2019).ipynb",
      "version": "0.3.2",
      "provenance": [],
      "collapsed_sections": [
        "dDMuWClSHuPH"
      ]
    },
    "kernelspec": {
      "name": "python3",
      "display_name": "Python 3"
    }
  },
  "cells": [
    {
      "cell_type": "code",
      "metadata": {
        "id": "Z7ZWxu-BF4WA",
        "colab_type": "code",
        "colab": {}
      },
      "source": [
        "import numpy as np\n",
        "import matplotlib.pyplot as plt\n",
        "from sklearn.datasets import make_blobs"
      ],
      "execution_count": 0,
      "outputs": []
    },
    {
      "cell_type": "markdown",
      "metadata": {
        "id": "PIggXI6_HjFx",
        "colab_type": "text"
      },
      "source": [
        "# DataSet Preparation"
      ]
    },
    {
      "cell_type": "code",
      "metadata": {
        "id": "lcIOd-USGo_X",
        "colab_type": "code",
        "colab": {}
      },
      "source": [
        "X,y = make_blobs(n_samples=1000, n_features=2, centers=2)"
      ],
      "execution_count": 0,
      "outputs": []
    },
    {
      "cell_type": "code",
      "metadata": {
        "id": "nbUJ8iPCHSg3",
        "colab_type": "code",
        "colab": {
          "base_uri": "https://localhost:8080/",
          "height": 0
        },
        "outputId": "3394050e-37f8-45d7-eba7-4af7d47e1a3c"
      },
      "source": [
        "print(X.shape,y.shape)"
      ],
      "execution_count": 22,
      "outputs": [
        {
          "output_type": "stream",
          "text": [
            "(1000, 2) (1000,)\n"
          ],
          "name": "stdout"
        }
      ]
    },
    {
      "cell_type": "code",
      "metadata": {
        "id": "OZ6ntHWBG8pG",
        "colab_type": "code",
        "colab": {
          "base_uri": "https://localhost:8080/",
          "height": 0
        },
        "outputId": "b1027eb1-cf34-4e78-fa3a-64846dc4a96d"
      },
      "source": [
        "\n",
        "plt.scatter(X[:,0],X[:,1])\n",
        "plt.show()"
      ],
      "execution_count": 23,
      "outputs": [
        {
          "output_type": "display_data",
          "data": {
            "image/png": "[encoded data removed]",
            "text/plain": [
              "<Figure size 432x288 with 1 Axes>"
            ]
          },
          "metadata": {
            "tags": []
          }
        }
      ]
    },
    {
      "cell_type": "markdown",
      "metadata": {
        "id": "dDMuWClSHuPH",
        "colab_type": "text"
      },
      "source": [
        "# Model and Helper Functions"
      ]
    },
    {
      "cell_type": "code",
      "metadata": {
        "id": "TLlHJfv4NIhZ",
        "colab_type": "code",
        "colab": {}
      },
      "source": [
        "def sigmoid(z):\n",
        "  return (1.0)/(1.0 + np.exp(-z))"
      ],
      "execution_count": 0,
      "outputs": []
    },
    {
      "cell_type": "code",
      "metadata": {
        "id": "hcz0C3tkNhyR",
        "colab_type": "code",
        "colab": {
          "base_uri": "https://localhost:8080/",
          "height": 0
        },
        "outputId": "d89486d6-bbc9-40d7-c55a-9a91e84ae988"
      },
      "source": [
        "z = np.array([91,2,3,4,5,867,8])\n",
        "print(z.shape)\n",
        "print(z)\n",
        "sigmoid(z)"
      ],
      "execution_count": 25,
      "outputs": [
        {
          "output_type": "stream",
          "text": [
            "(7,)\n",
            "[ 91   2   3   4   5 867   8]\n"
          ],
          "name": "stdout"
        },
        {
          "output_type": "execute_result",
          "data": {
            "text/plain": [
              "array([1.        , 0.88079708, 0.95257413, 0.98201379, 0.99330715,\n",
              "       1.        , 0.99966465])"
            ]
          },
          "metadata": {
            "tags": []
          },
          "execution_count": 25
        }
      ]
    },
    {
      "cell_type": "markdown",
      "metadata": {
        "id": "pxX2FP9_Qk0g",
        "colab_type": "text"
      },
      "source": [
        "# Implement Perceptron Learning Algorithm\n",
        " - Learn Weights\n",
        " - Reduce loss\n",
        " - Make Predictions"
      ]
    },
    {
      "cell_type": "code",
      "metadata": {
        "id": "tAl2yxCvQ_Um",
        "colab_type": "code",
        "colab": {}
      },
      "source": [
        "def predict(X,weights):\n",
        "  '''  X = (m*n+1) matrix       weights = (n*1) vector'''\n",
        "  z = np.dot(X,weights)\n",
        "  predictions = sigmoid(z)\n",
        "  return predictions "
      ],
      "execution_count": 0,
      "outputs": []
    },
    {
      "cell_type": "code",
      "metadata": {
        "id": "AaQLbhX1ye55",
        "colab_type": "code",
        "colab": {}
      },
      "source": [
        "def loss(X,Y,weights):\n",
        "  '''Binary Cross Entropy Loss'''\n",
        "  pred = predict(X,weights)\n",
        "  loss  = np.mean(-Y*np.log(pred) - (1-Y)*np.log(1-pred))\n",
        "  return loss"
      ],
      "execution_count": 0,
      "outputs": []
    },
    {
      "cell_type": "code",
      "metadata": {
        "id": "hoL6pIyx1GcC",
        "colab_type": "code",
        "colab": {}
      },
      "source": [
        "def update(X,Y,weights,learning_rate=0.5):\n",
        "  '''Perform weight updates for 1 epoch'''\n",
        "  pred = predict(X,weights)\n",
        "  dw = np.dot(X.T,pred - y)\n",
        "  \n",
        "  m = X.shape[0]\n",
        "  \n",
        "  weights = weights - learning_rate*dw/float(m)\n",
        "  return weights"
      ],
      "execution_count": 0,
      "outputs": []
    },
    {
      "cell_type": "code",
      "metadata": {
        "id": "FPTSex73NdTO",
        "colab_type": "code",
        "colab": {}
      },
      "source": [
        "def training(X,Y,learning_rate = 0.5,maxEpoch = 100):\n",
        "  \n",
        "  \n",
        "  # adding biases to the matrix\n",
        "  b = np.ones((X.shape[0],1))\n",
        "  X = np.hstack((b,X))\n",
        "  \n",
        "  # intialize weights\n",
        "  weights  = np.zeros(X.shape[1])\n",
        "    \n",
        "  for epoch in range(maxEpoch):\n",
        "    \n",
        "    weights = update(X,Y,weights,learning_rate)\n",
        "    \n",
        "    if epoch%10 ==0:\n",
        "      l = loss(X,Y,weights)\n",
        "      print(\"Epoch %d Loss %.4f\"%(epoch,l))\n",
        "    \n",
        "  return weights\n",
        "  "
      ],
      "execution_count": 0,
      "outputs": []
    },
    {
      "cell_type": "code",
      "metadata": {
        "id": "NEZHUAoq01WS",
        "colab_type": "code",
        "colab": {
          "base_uri": "https://localhost:8080/",
          "height": 1000
        },
        "outputId": "3264aa5d-3a5b-4021-c971-c8239bda5b0f"
      },
      "source": [
        "weights = training(X,y,learning_rate=0.8,maxEpoch = 1000)"
      ],
      "execution_count": 48,
      "outputs": [
        {
          "output_type": "stream",
          "text": [
            "Epoch 0 Loss 0.0007\n",
            "Epoch 10 Loss 0.0007\n",
            "Epoch 20 Loss 0.0007\n",
            "Epoch 30 Loss 0.0006\n",
            "Epoch 40 Loss 0.0006\n",
            "Epoch 50 Loss 0.0006\n",
            "Epoch 60 Loss 0.0005\n",
            "Epoch 70 Loss 0.0005\n",
            "Epoch 80 Loss 0.0005\n",
            "Epoch 90 Loss 0.0005\n",
            "Epoch 100 Loss 0.0005\n",
            "Epoch 110 Loss 0.0005\n",
            "Epoch 120 Loss 0.0004\n",
            "Epoch 130 Loss 0.0004\n",
            "Epoch 140 Loss 0.0004\n",
            "Epoch 150 Loss 0.0004\n",
            "Epoch 160 Loss 0.0004\n",
            "Epoch 170 Loss 0.0004\n",
            "Epoch 180 Loss 0.0004\n",
            "Epoch 190 Loss 0.0004\n",
            "Epoch 200 Loss 0.0004\n",
            "Epoch 210 Loss 0.0003\n",
            "Epoch 220 Loss 0.0003\n",
            "Epoch 230 Loss 0.0003\n",
            "Epoch 240 Loss 0.0003\n",
            "Epoch 250 Loss 0.0003\n",
            "Epoch 260 Loss 0.0003\n",
            "Epoch 270 Loss 0.0003\n",
            "Epoch 280 Loss 0.0003\n",
            "Epoch 290 Loss 0.0003\n",
            "Epoch 300 Loss 0.0003\n",
            "Epoch 310 Loss 0.0003\n",
            "Epoch 320 Loss 0.0003\n",
            "Epoch 330 Loss 0.0003\n",
            "Epoch 340 Loss 0.0003\n",
            "Epoch 350 Loss 0.0003\n",
            "Epoch 360 Loss 0.0003\n",
            "Epoch 370 Loss 0.0003\n",
            "Epoch 380 Loss 0.0003\n",
            "Epoch 390 Loss 0.0002\n",
            "Epoch 400 Loss 0.0002\n",
            "Epoch 410 Loss 0.0002\n",
            "Epoch 420 Loss 0.0002\n",
            "Epoch 430 Loss 0.0002\n",
            "Epoch 440 Loss 0.0002\n",
            "Epoch 450 Loss 0.0002\n",
            "Epoch 460 Loss 0.0002\n",
            "Epoch 470 Loss 0.0002\n",
            "Epoch 480 Loss 0.0002\n",
            "Epoch 490 Loss 0.0002\n",
            "Epoch 500 Loss 0.0002\n",
            "Epoch 510 Loss 0.0002\n",
            "Epoch 520 Loss 0.0002\n",
            "Epoch 530 Loss 0.0002\n",
            "Epoch 540 Loss 0.0002\n",
            "Epoch 550 Loss 0.0002\n",
            "Epoch 560 Loss 0.0002\n",
            "Epoch 570 Loss 0.0002\n",
            "Epoch 580 Loss 0.0002\n",
            "Epoch 590 Loss 0.0002\n",
            "Epoch 600 Loss 0.0002\n",
            "Epoch 610 Loss 0.0002\n",
            "Epoch 620 Loss 0.0002\n",
            "Epoch 630 Loss 0.0002\n",
            "Epoch 640 Loss 0.0002\n",
            "Epoch 650 Loss 0.0002\n",
            "Epoch 660 Loss 0.0002\n",
            "Epoch 670 Loss 0.0002\n",
            "Epoch 680 Loss 0.0002\n",
            "Epoch 690 Loss 0.0002\n",
            "Epoch 700 Loss 0.0002\n",
            "Epoch 710 Loss 0.0002\n",
            "Epoch 720 Loss 0.0002\n",
            "Epoch 730 Loss 0.0002\n",
            "Epoch 740 Loss 0.0002\n",
            "Epoch 750 Loss 0.0002\n",
            "Epoch 760 Loss 0.0002\n",
            "Epoch 770 Loss 0.0002\n",
            "Epoch 780 Loss 0.0002\n",
            "Epoch 790 Loss 0.0002\n",
            "Epoch 800 Loss 0.0002\n",
            "Epoch 810 Loss 0.0002\n",
            "Epoch 820 Loss 0.0002\n",
            "Epoch 830 Loss 0.0002\n",
            "Epoch 840 Loss 0.0002\n",
            "Epoch 850 Loss 0.0002\n",
            "Epoch 860 Loss 0.0002\n",
            "Epoch 870 Loss 0.0002\n",
            "Epoch 880 Loss 0.0001\n",
            "Epoch 890 Loss 0.0001\n",
            "Epoch 900 Loss 0.0001\n",
            "Epoch 910 Loss 0.0001\n",
            "Epoch 920 Loss 0.0001\n",
            "Epoch 930 Loss 0.0001\n",
            "Epoch 940 Loss 0.0001\n",
            "Epoch 950 Loss 0.0001\n",
            "Epoch 960 Loss 0.0001\n",
            "Epoch 970 Loss 0.0001\n",
            "Epoch 980 Loss 0.0001\n",
            "Epoch 990 Loss 0.0001\n"
          ],
          "name": "stdout"
        }
      ]
    }
  ]
}